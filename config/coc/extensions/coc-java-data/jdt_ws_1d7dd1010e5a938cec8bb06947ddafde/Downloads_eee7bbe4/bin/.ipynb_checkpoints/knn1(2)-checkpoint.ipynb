{
 "cells": [
  {
   "cell_type": "markdown",
   "metadata": {
    "id": "6ypjTM_DBQf-"
   },
   "source": [
    "BANK LOAN ELIGIBILTY PREDICTION:\n"
   ]
  },
  {
   "cell_type": "code",
   "execution_count": 1,
   "metadata": {
    "id": "ZS9WrYMVBqLs"
   },
   "outputs": [
    {
     "ename": "ImportError",
     "evalue": "cannot import name 'maybe_box_datetimelike' from 'pandas.core.dtypes.cast' (/home/ranchhor/anaconda3/lib/python3.8/site-packages/pandas/core/dtypes/cast.py)",
     "output_type": "error",
     "traceback": [
      "\u001b[0;31m---------------------------------------------------------------------------\u001b[0m",
      "\u001b[0;31mImportError\u001b[0m                               Traceback (most recent call last)",
      "\u001b[0;32m<ipython-input-1-d3c1ec1754dc>\u001b[0m in \u001b[0;36m<module>\u001b[0;34m\u001b[0m\n\u001b[1;32m      5\u001b[0m \u001b[0;32mimport\u001b[0m \u001b[0mnumpy\u001b[0m \u001b[0;32mas\u001b[0m \u001b[0mnp\u001b[0m\u001b[0;34m\u001b[0m\u001b[0;34m\u001b[0m\u001b[0m\n\u001b[1;32m      6\u001b[0m \u001b[0;32mimport\u001b[0m \u001b[0mos\u001b[0m\u001b[0;34m\u001b[0m\u001b[0;34m\u001b[0m\u001b[0m\n\u001b[0;32m----> 7\u001b[0;31m \u001b[0;32mimport\u001b[0m \u001b[0mpandas\u001b[0m \u001b[0;32mas\u001b[0m \u001b[0mpd\u001b[0m\u001b[0;34m\u001b[0m\u001b[0;34m\u001b[0m\u001b[0m\n\u001b[0m\u001b[1;32m      8\u001b[0m \u001b[0;32mimport\u001b[0m \u001b[0mmatplotlib\u001b[0m\u001b[0;34m.\u001b[0m\u001b[0mpyplot\u001b[0m \u001b[0;32mas\u001b[0m \u001b[0mplt\u001b[0m\u001b[0;34m\u001b[0m\u001b[0;34m\u001b[0m\u001b[0m\n\u001b[1;32m      9\u001b[0m \u001b[0;32mimport\u001b[0m \u001b[0mseaborn\u001b[0m \u001b[0;32mas\u001b[0m \u001b[0msns\u001b[0m\u001b[0;34m\u001b[0m\u001b[0;34m\u001b[0m\u001b[0m\n",
      "\u001b[0;32m~/anaconda3/lib/python3.8/site-packages/pandas/__init__.py\u001b[0m in \u001b[0;36m<module>\u001b[0;34m\u001b[0m\n\u001b[1;32m     53\u001b[0m \u001b[0;32mimport\u001b[0m \u001b[0mpandas\u001b[0m\u001b[0;34m.\u001b[0m\u001b[0mcore\u001b[0m\u001b[0;34m.\u001b[0m\u001b[0mconfig_init\u001b[0m\u001b[0;34m\u001b[0m\u001b[0;34m\u001b[0m\u001b[0m\n\u001b[1;32m     54\u001b[0m \u001b[0;34m\u001b[0m\u001b[0m\n\u001b[0;32m---> 55\u001b[0;31m from pandas.core.api import (\n\u001b[0m\u001b[1;32m     56\u001b[0m     \u001b[0;31m# dtype\u001b[0m\u001b[0;34m\u001b[0m\u001b[0;34m\u001b[0m\u001b[0;34m\u001b[0m\u001b[0m\n\u001b[1;32m     57\u001b[0m     \u001b[0mInt8Dtype\u001b[0m\u001b[0;34m,\u001b[0m\u001b[0;34m\u001b[0m\u001b[0;34m\u001b[0m\u001b[0m\n",
      "\u001b[0;32m~/anaconda3/lib/python3.8/site-packages/pandas/core/api.py\u001b[0m in \u001b[0;36m<module>\u001b[0;34m\u001b[0m\n\u001b[1;32m      3\u001b[0m \u001b[0;32mimport\u001b[0m \u001b[0mnumpy\u001b[0m \u001b[0;32mas\u001b[0m \u001b[0mnp\u001b[0m\u001b[0;34m\u001b[0m\u001b[0;34m\u001b[0m\u001b[0m\n\u001b[1;32m      4\u001b[0m \u001b[0;34m\u001b[0m\u001b[0m\n\u001b[0;32m----> 5\u001b[0;31m from pandas.core.arrays.integer import (\n\u001b[0m\u001b[1;32m      6\u001b[0m     \u001b[0mInt8Dtype\u001b[0m\u001b[0;34m,\u001b[0m\u001b[0;34m\u001b[0m\u001b[0;34m\u001b[0m\u001b[0m\n\u001b[1;32m      7\u001b[0m     \u001b[0mInt16Dtype\u001b[0m\u001b[0;34m,\u001b[0m\u001b[0;34m\u001b[0m\u001b[0;34m\u001b[0m\u001b[0m\n",
      "\u001b[0;32m~/anaconda3/lib/python3.8/site-packages/pandas/core/arrays/__init__.py\u001b[0m in \u001b[0;36m<module>\u001b[0;34m\u001b[0m\n\u001b[1;32m     11\u001b[0m \u001b[0;32mfrom\u001b[0m \u001b[0;34m.\u001b[0m\u001b[0mnumpy_\u001b[0m \u001b[0;32mimport\u001b[0m \u001b[0mPandasArray\u001b[0m\u001b[0;34m,\u001b[0m \u001b[0mPandasDtype\u001b[0m  \u001b[0;31m# noqa: F401\u001b[0m\u001b[0;34m\u001b[0m\u001b[0;34m\u001b[0m\u001b[0m\n\u001b[1;32m     12\u001b[0m \u001b[0;32mfrom\u001b[0m \u001b[0;34m.\u001b[0m\u001b[0mperiod\u001b[0m \u001b[0;32mimport\u001b[0m \u001b[0mPeriodArray\u001b[0m\u001b[0;34m,\u001b[0m \u001b[0mperiod_array\u001b[0m  \u001b[0;31m# noqa: F401\u001b[0m\u001b[0;34m\u001b[0m\u001b[0;34m\u001b[0m\u001b[0m\n\u001b[0;32m---> 13\u001b[0;31m \u001b[0;32mfrom\u001b[0m \u001b[0;34m.\u001b[0m\u001b[0msparse\u001b[0m \u001b[0;32mimport\u001b[0m \u001b[0mSparseArray\u001b[0m  \u001b[0;31m# noqa: F401\u001b[0m\u001b[0;34m\u001b[0m\u001b[0;34m\u001b[0m\u001b[0m\n\u001b[0m\u001b[1;32m     14\u001b[0m \u001b[0;32mfrom\u001b[0m \u001b[0;34m.\u001b[0m\u001b[0mtimedeltas\u001b[0m \u001b[0;32mimport\u001b[0m \u001b[0mTimedeltaArray\u001b[0m  \u001b[0;31m# noqa: F401\u001b[0m\u001b[0;34m\u001b[0m\u001b[0;34m\u001b[0m\u001b[0m\n",
      "\u001b[0;32m~/anaconda3/lib/python3.8/site-packages/pandas/core/arrays/sparse/__init__.py\u001b[0m in \u001b[0;36m<module>\u001b[0;34m\u001b[0m\n\u001b[1;32m      1\u001b[0m \u001b[0;31m# flake8: noqa: F401\u001b[0m\u001b[0;34m\u001b[0m\u001b[0;34m\u001b[0m\u001b[0;34m\u001b[0m\u001b[0m\n\u001b[1;32m      2\u001b[0m \u001b[0;34m\u001b[0m\u001b[0m\n\u001b[0;32m----> 3\u001b[0;31m \u001b[0;32mfrom\u001b[0m \u001b[0mpandas\u001b[0m\u001b[0;34m.\u001b[0m\u001b[0mcore\u001b[0m\u001b[0;34m.\u001b[0m\u001b[0marrays\u001b[0m\u001b[0;34m.\u001b[0m\u001b[0msparse\u001b[0m\u001b[0;34m.\u001b[0m\u001b[0maccessor\u001b[0m \u001b[0;32mimport\u001b[0m \u001b[0mSparseAccessor\u001b[0m\u001b[0;34m,\u001b[0m \u001b[0mSparseFrameAccessor\u001b[0m\u001b[0;34m\u001b[0m\u001b[0;34m\u001b[0m\u001b[0m\n\u001b[0m\u001b[1;32m      4\u001b[0m from pandas.core.arrays.sparse.array import (\n\u001b[1;32m      5\u001b[0m     \u001b[0mBlockIndex\u001b[0m\u001b[0;34m,\u001b[0m\u001b[0;34m\u001b[0m\u001b[0;34m\u001b[0m\u001b[0m\n",
      "\u001b[0;32m~/anaconda3/lib/python3.8/site-packages/pandas/core/arrays/sparse/accessor.py\u001b[0m in \u001b[0;36m<module>\u001b[0;34m\u001b[0m\n\u001b[1;32m      8\u001b[0m \u001b[0;34m\u001b[0m\u001b[0m\n\u001b[1;32m      9\u001b[0m \u001b[0;32mfrom\u001b[0m \u001b[0mpandas\u001b[0m\u001b[0;34m.\u001b[0m\u001b[0mcore\u001b[0m\u001b[0;34m.\u001b[0m\u001b[0maccessor\u001b[0m \u001b[0;32mimport\u001b[0m \u001b[0mPandasDelegate\u001b[0m\u001b[0;34m,\u001b[0m \u001b[0mdelegate_names\u001b[0m\u001b[0;34m\u001b[0m\u001b[0;34m\u001b[0m\u001b[0m\n\u001b[0;32m---> 10\u001b[0;31m \u001b[0;32mfrom\u001b[0m \u001b[0mpandas\u001b[0m\u001b[0;34m.\u001b[0m\u001b[0mcore\u001b[0m\u001b[0;34m.\u001b[0m\u001b[0marrays\u001b[0m\u001b[0;34m.\u001b[0m\u001b[0msparse\u001b[0m\u001b[0;34m.\u001b[0m\u001b[0marray\u001b[0m \u001b[0;32mimport\u001b[0m \u001b[0mSparseArray\u001b[0m\u001b[0;34m\u001b[0m\u001b[0;34m\u001b[0m\u001b[0m\n\u001b[0m\u001b[1;32m     11\u001b[0m \u001b[0;32mfrom\u001b[0m \u001b[0mpandas\u001b[0m\u001b[0;34m.\u001b[0m\u001b[0mcore\u001b[0m\u001b[0;34m.\u001b[0m\u001b[0marrays\u001b[0m\u001b[0;34m.\u001b[0m\u001b[0msparse\u001b[0m\u001b[0;34m.\u001b[0m\u001b[0mdtype\u001b[0m \u001b[0;32mimport\u001b[0m \u001b[0mSparseDtype\u001b[0m\u001b[0;34m\u001b[0m\u001b[0;34m\u001b[0m\u001b[0m\n\u001b[1;32m     12\u001b[0m \u001b[0;34m\u001b[0m\u001b[0m\n",
      "\u001b[0;32m~/anaconda3/lib/python3.8/site-packages/pandas/core/arrays/sparse/array.py\u001b[0m in \u001b[0;36m<module>\u001b[0;34m\u001b[0m\n\u001b[1;32m     18\u001b[0m \u001b[0;32mfrom\u001b[0m \u001b[0mpandas\u001b[0m\u001b[0;34m.\u001b[0m\u001b[0merrors\u001b[0m \u001b[0;32mimport\u001b[0m \u001b[0mPerformanceWarning\u001b[0m\u001b[0;34m\u001b[0m\u001b[0;34m\u001b[0m\u001b[0m\n\u001b[1;32m     19\u001b[0m \u001b[0;34m\u001b[0m\u001b[0m\n\u001b[0;32m---> 20\u001b[0;31m from pandas.core.dtypes.cast import (\n\u001b[0m\u001b[1;32m     21\u001b[0m     \u001b[0mastype_nansafe\u001b[0m\u001b[0;34m,\u001b[0m\u001b[0;34m\u001b[0m\u001b[0;34m\u001b[0m\u001b[0m\n\u001b[1;32m     22\u001b[0m     \u001b[0mconstruct_1d_arraylike_from_scalar\u001b[0m\u001b[0;34m,\u001b[0m\u001b[0;34m\u001b[0m\u001b[0;34m\u001b[0m\u001b[0m\n",
      "\u001b[0;31mImportError\u001b[0m: cannot import name 'maybe_box_datetimelike' from 'pandas.core.dtypes.cast' (/home/ranchhor/anaconda3/lib/python3.8/site-packages/pandas/core/dtypes/cast.py)"
     ]
    }
   ],
   "source": [
    "\n",
    "\n",
    "from sklearn.linear_model import LogisticRegression\n",
    "from sklearn.model_selection import train_test_split, KFold, cross_val_score\n",
    "from sklearn.preprocessing import StandardScaler\n",
    "\n",
    "import numpy as np\n",
    "import os \n",
    "import pandas as pd\n",
    "import matplotlib.pyplot as plt\n",
    "import seaborn as sns\n",
    "from sklearn.model_selection import train_test_split\n",
    "from matplotlib import cm"
   ]
  },
  {
   "cell_type": "code",
   "execution_count": null,
   "metadata": {
    "colab": {
     "base_uri": "https://localhost:8080/"
    },
    "id": "2szIss32CN3R",
    "outputId": "4b66c410-a230-4e86-f5e0-aefe130ce10a"
   },
   "outputs": [],
   "source": [
    "#Importing the dataset\n",
    "df = pd.read_csv(\"credit_train.csv\")\n",
    "dtest = pd.read_csv(\"credit_test.csv\")\n",
    "pd.isnull(df).any()\n",
    "df.dataframeName = \"credit.csv\"\n",
    "print(df.shape)"
   ]
  },
  {
   "cell_type": "code",
   "execution_count": null,
   "metadata": {
    "colab": {
     "base_uri": "https://localhost:8080/",
     "height": 417
    },
    "id": "oShL6t-uDhbc",
    "outputId": "fcb3dff5-171a-41c1-8b9c-6031b7cf99d7"
   },
   "outputs": [],
   "source": [
    "df.head(5)"
   ]
  },
  {
   "cell_type": "code",
   "execution_count": null,
   "metadata": {
    "colab": {
     "base_uri": "https://localhost:8080/"
    },
    "id": "XVrmB5XcEKKc",
    "outputId": "d2151f4f-5281-47da-fbb5-5d3756e40666"
   },
   "outputs": [],
   "source": [
    "#making copies of the dataset\n",
    "trainin= df.copy()\n",
    "test = dtest.copy()\n",
    "#removing unwanted features\n",
    "trainin = trainin.drop(['Loan ID', 'Customer ID' ], axis =  1)\n",
    "test = test.drop(['Loan ID', 'Customer ID' ], axis =  1)\n",
    "print(trainin.columns)\n",
    "print(test.columns)"
   ]
  },
  {
   "cell_type": "code",
   "execution_count": null,
   "metadata": {
    "colab": {
     "base_uri": "https://localhost:8080/"
    },
    "id": "d_H7eS2-HalX",
    "outputId": "d58e7cb8-314d-4a37-bb5e-d4a81ab0abc3"
   },
   "outputs": [],
   "source": [
    "print(trainin['Loan Status'].shape)\n",
    "trainin.dtypes"
   ]
  },
  {
   "cell_type": "code",
   "execution_count": null,
   "metadata": {
    "colab": {
     "base_uri": "https://localhost:8080/"
    },
    "id": "LjF28ST5HxgG",
    "outputId": "5d486f9f-cfb3-41a1-cd5e-82bd2081d072"
   },
   "outputs": [],
   "source": [
    "print(set(trainin['Loan Status']))"
   ]
  },
  {
   "cell_type": "code",
   "execution_count": null,
   "metadata": {
    "colab": {
     "base_uri": "https://localhost:8080/",
     "height": 333
    },
    "id": "j-4q06z8OVRQ",
    "outputId": "c4c0bd74-3d7c-4337-d9e4-a69ed27878af"
   },
   "outputs": [],
   "source": [
    "trainin['Loan Status'].value_counts(normalize = True)\n",
    "trainin['Loan Status'].value_counts().plot.bar()"
   ]
  },
  {
   "cell_type": "code",
   "execution_count": null,
   "metadata": {
    "colab": {
     "base_uri": "https://localhost:8080/"
    },
    "id": "po679dcGlpZI",
    "outputId": "146289da-3229-4cb2-ffc3-f53b8f355f5e"
   },
   "outputs": [],
   "source": [
    "trainin['Years in current job'].value_counts(normalize = True)"
   ]
  },
  {
   "cell_type": "code",
   "execution_count": null,
   "metadata": {
    "colab": {
     "base_uri": "https://localhost:8080/"
    },
    "id": "E3SvK7M8J1mJ",
    "outputId": "72bb0af4-e203-4a20-84b3-267783487b02"
   },
   "outputs": [],
   "source": [
    "\n",
    "\n",
    "trainin['Years in current job']=trainin['Years in current job'].map({'8 years':8, '10+ years':10, '3 years':3, '5 years':5, '< 1 year':0,\n",
    "                                    '2 years':2, '4 years':4, '9 years':9, '7 years':7, '1 year':1, '6 years':6})\n",
    "\n",
    "test['Years in current job']=test['Years in current job'].map({'8 years':8, '10+ years':10, '3 years':3, '5 years':5, '< 1 year':0,\n",
    "       '2 years':2, '4 years':4, '9 years':9, '7 years':7, '1 year':1, '6 years':6})\n",
    "\n",
    "trainin['Loan Status'] = trainin['Loan Status'].map({'Fully Paid':1 , 'Charged Off':0})\n",
    "\n",
    "trainin['Years in current job'].value_counts(normalize = True)\n",
    "\n",
    "\n"
   ]
  },
  {
   "cell_type": "code",
   "execution_count": null,
   "metadata": {
    "colab": {
     "base_uri": "https://localhost:8080/"
    },
    "id": "CAkeFv--M4ID",
    "outputId": "b61b2f73-2cdc-454f-f174-27a40bd03720"
   },
   "outputs": [],
   "source": [
    "trainin['Number of Credit Problems'].value_counts(normalize=True)"
   ]
  },
  {
   "cell_type": "code",
   "execution_count": null,
   "metadata": {
    "colab": {
     "base_uri": "https://localhost:8080/",
     "height": 1000
    },
    "id": "B0Rqe_vEV8ft",
    "outputId": "53372fe7-097e-437e-a406-97eed0f925f9"
   },
   "outputs": [],
   "source": [
    "# Around 72% want short term Duration for the Loan\n",
    "trainin['Term'].value_counts(normalize=True).plot.bar(figsize=(15,10), title='Term')\n",
    "plt.show()\n",
    "# Around 48% people having Home Mortage\n",
    "# Around 42% people are in Rent\n",
    "# Around 9% people having their Own Home\n",
    "# Around 0.2% people having HaveMortgage  \n",
    "trainin['Home Ownership'].value_counts(normalize=True).plot.bar(title='Home Ownership')\n",
    "plt.show()\n",
    "# Maximum Purpose for the loan of the people is Debt Consolidation nearly around 78% \n",
    "trainin['Purpose'].value_counts(normalize=True).plot.bar(title='Purpose')\n",
    "plt.show()\n",
    "# Around 86 % people having 0 Credit Problems \n",
    "trainin['Number of Credit Problems'].value_counts(normalize=True).plot.bar(title='Number of Credit Problems')\n",
    "plt.show()"
   ]
  },
  {
   "cell_type": "code",
   "execution_count": null,
   "metadata": {
    "colab": {
     "base_uri": "https://localhost:8080/"
    },
    "id": "9fEUhMNxWKSV",
    "outputId": "ddc0e754-bd25-45e5-e6df-8a8140c28122"
   },
   "outputs": [],
   "source": [
    "trainin['Credit Score'].describe()\n",
    "\n",
    "\n",
    "# removing outliers\n",
    "trainin=trainin.drop(trainin[trainin['Credit Score']>900].index)\n",
    "test = test.drop(test[test['Credit Score']>900].index)\n",
    "trainin['Credit Score'].describe()\n"
   ]
  },
  {
   "cell_type": "code",
   "execution_count": null,
   "metadata": {
    "colab": {
     "base_uri": "https://localhost:8080/"
    },
    "id": "8v5JA2htawPh",
    "outputId": "db1ac18c-0551-4f61-9975-5078c5b58a0a"
   },
   "outputs": [],
   "source": [
    "#Dealing with null values:\n",
    "# dropping the samples whose target (loan status) having missing values\n",
    "trainin=trainin.drop(trainin['Loan Status'][trainin['Loan Status'].isna()].index)\n",
    "trainin['Credit Score'].fillna(0, inplace = True)\n",
    "trainin['Annual Income'].fillna(0,inplace=True)\n",
    "trainin['Years of Credit History'].fillna(0, inplace = True)\n",
    "trainin['Monthly Debt'].fillna(0, inplace = True)\n",
    "trainin['Number of Open Accounts'].fillna(0, inplace = True)\n",
    "trainin['Number of Credit Problems'].fillna(0,inplace=True)\n",
    "trainin['Current Credit Balance'].fillna(0, inplace = True)\n",
    "trainin['Maximum Open Credit'].fillna(0, inplace = True)\n",
    "trainin['Bankruptcies'].fillna(0,inplace=True)\n",
    "trainin['Tax Liens'].fillna(0,inplace=True)\n",
    "trainin['Years in current job'].fillna(0,inplace=True)\n",
    "trainin['Months since last delinquent'].fillna(0,inplace=True)\n",
    "\n",
    "\n",
    "test['Credit Score'].fillna(0, inplace = True)\n",
    "test['Annual Income'].fillna(0,inplace=True)\n",
    "test['Years of Credit History'].fillna(0, inplace = True)\n",
    "test['Monthly Debt'].fillna(0, inplace = True)\n",
    "test['Number of Open Accounts'].fillna(0, inplace = True)\n",
    "test['Number of Credit Problems'].fillna(0,inplace=True)\n",
    "test['Current Credit Balance'].fillna(0, inplace = True)\n",
    "test['Maximum Open Credit'].fillna(0, inplace = True)\n",
    "test['Bankruptcies'].fillna(0,inplace=True)\n",
    "test['Tax Liens'].fillna(0,inplace=True)\n",
    "test['Years in current job'].fillna(0,inplace=True)\n",
    "test['Months since last delinquent'].fillna(0,inplace=True)\n",
    "trainin.head()\n",
    "pd.isnull(trainin).any()\n",
    "test.dtypes"
   ]
  },
  {
   "cell_type": "code",
   "execution_count": null,
   "metadata": {
    "colab": {
     "base_uri": "https://localhost:8080/",
     "height": 659
    },
    "id": "gF3fE1TvOVRW",
    "outputId": "be80ed44-b827-4742-94c0-94c34b4caff3"
   },
   "outputs": [],
   "source": [
    "sns.distplot(trainin['Annual Income'])\n",
    "plt.show()\n",
    "trainin['Annual Income'].plot.box(figsize=(16,5))\n",
    "plt.show()\n"
   ]
  },
  {
   "cell_type": "markdown",
   "metadata": {
    "id": "zvZkzmy3OVRW"
   },
   "source": [
    "It can be inferred that most of the data in the distribution of applicant income are towards the left which means it is not normally distributed. We will try to make it normal in later sections as algorithms work better if the data is normally distributed.\n",
    "The boxplot confirms the presence of a lot of outliers/extreme values. This can be attributed to the income disparity in the society."
   ]
  },
  {
   "cell_type": "code",
   "execution_count": null,
   "metadata": {
    "colab": {
     "base_uri": "https://localhost:8080/",
     "height": 366
    },
    "id": "sJlcS-VsOVRW",
    "outputId": "9a321561-766c-40f6-aec5-04b51a4ce034"
   },
   "outputs": [],
   "source": [
    "trainin.boxplot(column='Annual Income', by = 'Term') \n",
    "plt.suptitle(\"\")"
   ]
  },
  {
   "cell_type": "markdown",
   "metadata": {
    "id": "zl2-I48tOVRW"
   },
   "source": [
    "We can see that there are a higher number of Short Term Loan with very high incomes, which are appearing to be outliers."
   ]
  },
  {
   "cell_type": "code",
   "execution_count": null,
   "metadata": {
    "colab": {
     "base_uri": "https://localhost:8080/",
     "height": 713
    },
    "id": "TuGcqPwrOVRW",
    "outputId": "f0b9fc72-b074-403f-f7c5-59fe288eca94"
   },
   "outputs": [],
   "source": [
    "trainin.notna()\n",
    "sns.distplot(trainin['Current Loan Amount'])\n",
    "plt.show()\n",
    "trainin['Current Loan Amount'].plot.box(figsize=(10,6))\n",
    "plt.show()"
   ]
  },
  {
   "cell_type": "markdown",
   "metadata": {
    "id": "OWIOhHgBOVRX"
   },
   "source": [
    "We see a lot of outliers in this variable and the distribution is fairly normal. We will treat the outliers in later sections."
   ]
  },
  {
   "cell_type": "markdown",
   "metadata": {
    "id": "ZBVXQ2PdOVRX"
   },
   "source": [
    "#### Bivariate Analysis\n",
    "Let’s recall some of the hypotheses that we generated earlier\n",
    "\n",
    "Applicants with high incomes should have more chances of loan approval.\n",
    "\n",
    "Applicants who have repaid their previous debts should have higher chances of loan approval.\n",
    "\n",
    "Loan approval should also depend on the loan amount. If the loan amount is less, the chances of loan approval should be high.\n",
    "\n",
    "Lesser the amount to be paid monthly to repay the loan, the higher the chances of loan approval."
   ]
  },
  {
   "cell_type": "code",
   "execution_count": null,
   "metadata": {
    "colab": {
     "base_uri": "https://localhost:8080/",
     "height": 323
    },
    "id": "J1FwuFIPOVRX",
    "outputId": "ed37ecfc-a58c-4400-a18e-cc0a41776355"
   },
   "outputs": [],
   "source": [
    "term=pd.crosstab(trainin['Term'],trainin['Loan Status'])\n",
    "term.div(term.sum(1).astype(float), axis=0).plot(kind=\"bar\",stacked=True,figsize=(8,4))\n",
    "plt.show()"
   ]
  },
  {
   "cell_type": "code",
   "execution_count": null,
   "metadata": {
    "colab": {
     "base_uri": "https://localhost:8080/"
    },
    "id": "67qSOAS8OVRY",
    "outputId": "1f2af039-f993-4798-d983-6f520fa952fa"
   },
   "outputs": [],
   "source": [
    "trainin.dtypes"
   ]
  },
  {
   "cell_type": "code",
   "execution_count": null,
   "metadata": {
    "colab": {
     "base_uri": "https://localhost:8080/",
     "height": 1000
    },
    "id": "HrOvKsTBOVRY",
    "outputId": "9a999e70-345a-46b8-d518-efc36361337b"
   },
   "outputs": [],
   "source": [
    "Years=pd.crosstab(trainin['Years in current job'],trainin['Loan Status'])\n",
    "Home_Ownership =pd.crosstab(trainin['Home Ownership'],trainin['Loan Status'])\n",
    "Purpose=pd.crosstab(trainin['Purpose'],trainin['Loan Status'])\n",
    "Years.div(Years.sum(1).astype(float), axis=0).plot(kind=\"bar\",stacked=True,figsize=(8,8))\n",
    "plt.show()\n",
    "Home_Ownership.div(Home_Ownership.sum(1).astype(float), axis=0).plot(kind=\"bar\",stacked=True,figsize=(8,8))\n",
    "plt.show()\n",
    "Purpose.div(Purpose.sum(1).astype(float), axis=0).plot(kind=\"bar\",stacked=True,figsize=(8,8))\n",
    "plt.show()\n"
   ]
  },
  {
   "cell_type": "markdown",
   "metadata": {
    "id": "jo45IWsfOVRY"
   },
   "source": [
    "1) 3 Years of current job having more Fully paid then others.. \n",
    "\n",
    "2) Person belongs to Home Mortages giving full Paid in less duration then others\n",
    "\n",
    "3) Small Business people having struggle and delay to pay the Full Amount of Loan that's why charged is also increasing Continously.."
   ]
  },
  {
   "cell_type": "code",
   "execution_count": null,
   "metadata": {
    "colab": {
     "base_uri": "https://localhost:8080/",
     "height": 742
    },
    "id": "Q6O137xfOVRY",
    "outputId": "46e42c06-b8a6-4ce7-a60c-148e0e8c0f75"
   },
   "outputs": [],
   "source": [
    "matrix = trainin.corr()\n",
    "f, ax = plt.subplots(figsize=(12,10))\n",
    "sns.heatmap(matrix,vmax=.8,square=True,cmap=\"BuPu\", annot = True)"
   ]
  },
  {
   "cell_type": "markdown",
   "metadata": {
    "id": "efsp6Mh3OVRZ"
   },
   "source": [
    "We see that the most correlate variables are (Annual Income and Monthly Debt) "
   ]
  },
  {
   "cell_type": "code",
   "execution_count": null,
   "metadata": {
    "colab": {
     "base_uri": "https://localhost:8080/",
     "height": 265
    },
    "id": "O33MtolpOVRZ",
    "outputId": "6d9ce99e-3779-4883-a358-cb4a7fa2ad19"
   },
   "outputs": [],
   "source": [
    "trainin['Current_Loan_Amount']=np.log(trainin['Current Loan Amount'])\n",
    "trainin['Current_Loan_Amount'].hist(bins=20)\n",
    "test['Current_Loan_Amount']=np.log(test['Current Loan Amount'])"
   ]
  },
  {
   "cell_type": "markdown",
   "metadata": {
    "id": "q8gkTCrwOVRa"
   },
   "source": [
    "Now the distribution looks much closer to normal and the effect of extreme values has been significantly subsided. Let’s build a logistic regression model and make predictions for the test dataset"
   ]
  },
  {
   "cell_type": "code",
   "execution_count": null,
   "metadata": {
    "colab": {
     "base_uri": "https://localhost:8080/"
    },
    "id": "85fmOXBkOVRa",
    "outputId": "32ec0fd7-d403-4b86-ce89-ea656c899d1e"
   },
   "outputs": [],
   "source": [
    "trainin['Credit Score'].value_counts(normalize=True)"
   ]
  },
  {
   "cell_type": "code",
   "execution_count": null,
   "metadata": {
    "colab": {
     "base_uri": "https://localhost:8080/",
     "height": 278
    },
    "id": "S_fl0ooMa-lx",
    "outputId": "f370319c-6cd8-4e7c-dd5f-2ad9f7c5b64e"
   },
   "outputs": [],
   "source": [
    "training = trainin\n",
    "training= training.drop(['Term', 'Purpose' , 'Months since last delinquent','Home Ownership'] , axis = 1)\n",
    "test = test.drop(['Term','Purpose','Months since last delinquent','Home Ownership'], axis =1)\n",
    "features = training.iloc[:,1:]\n",
    "target = training['Loan Status']\n",
    "test.head()\n"
   ]
  },
  {
   "cell_type": "code",
   "execution_count": null,
   "metadata": {
    "colab": {
     "base_uri": "https://localhost:8080/"
    },
    "id": "oGyIkpgAb8TW",
    "outputId": "ceb65c84-84d0-42f6-b25a-10f340ec925b"
   },
   "outputs": [],
   "source": [
    "x_train , x_test , y_train , y_test = train_test_split(features, target , shuffle = False)\n",
    "scale=StandardScaler()\n",
    "features=scale.fit_transform(features)\n",
    "\n",
    "kf= KFold(n_splits=10, shuffle=False)\n",
    "print(x_train.shape)\n",
    "print(x_test.shape)\n"
   ]
  },
  {
   "cell_type": "code",
   "execution_count": null,
   "metadata": {
    "colab": {
     "base_uri": "https://localhost:8080/"
    },
    "id": "eRGYJUxSmer0",
    "outputId": "ffea6ad2-b65a-4d39-c8fe-edb6b0eab13a"
   },
   "outputs": [],
   "source": [
    "logreg = LogisticRegression()\n",
    "logreg.fit(x_train,y_train)\n",
    "score = logreg.score(x_train, y_train)\n",
    "print(\"Test Accuracy Score\", score)\n",
    "predict = logreg.predict(x_test)\n",
    "score = cross_val_score(logreg , features , target , scoring = 'accuracy' , cv = kf)\n",
    "print(score)\n",
    "print(np.mean(score)*100)\n"
   ]
  },
  {
   "cell_type": "markdown",
   "metadata": {
    "id": "kpUrn4VbnO_S"
   },
   "source": [
    "###KNN"
   ]
  },
  {
   "cell_type": "code",
   "execution_count": null,
   "metadata": {
    "colab": {
     "base_uri": "https://localhost:8080/"
    },
    "id": "uGTgmPfb01mM",
    "outputId": "c5f85017-682c-4d53-c065-f0b37bb2cbdb"
   },
   "outputs": [],
   "source": [
    "from sklearn.pipeline import Pipeline, FeatureUnion\n",
    "from sklearn.model_selection import GridSearchCV\n",
    "\n",
    "pipe = Pipeline([('standadizer', scale), ('knn', k)])\n",
    "search_space = [{'knn__n_neighbors': [1, 2, 3, 4, 5, 6, 7, 8, 9, 10 , 11 , 12 , 13 , 14 , 15 , 16 , 17 , 18 , 19 , 20]}]\n",
    "kval = GridSearchCV(pipe, search_space, cv=5, verbose=4).fit(x_train, y_train)"
   ]
  },
  {
   "cell_type": "code",
   "execution_count": null,
   "metadata": {
    "id": "lm0Hk-l12IGR"
   },
   "outputs": [],
   "source": [
    "kval.best_estimator_.get_params()['knn__n_neighbors']"
   ]
  },
  {
   "cell_type": "code",
   "execution_count": null,
   "metadata": {
    "colab": {
     "base_uri": "https://localhost:8080/"
    },
    "id": "Qd-2yYA18Fxv",
    "outputId": "9df93de0-b2e9-47df-9038-049912c83057"
   },
   "outputs": [],
   "source": [
    "from sklearn.neighbors import KNeighborsClassifier\n",
    "k = KNeighborsClassifier(n_neighbors = 19, metric = 'minkowski', p = 2)\n",
    "k.fit(x_train , y_train)"
   ]
  },
  {
   "cell_type": "code",
   "execution_count": null,
   "metadata": {
    "id": "kowUMjeC8GWj"
   },
   "outputs": [],
   "source": [
    "y_pred = k.predict(x_test)\n",
    "y_pred"
   ]
  },
  {
   "cell_type": "code",
   "execution_count": null,
   "metadata": {
    "id": "RZMAQPZ78bto"
   },
   "outputs": [],
   "source": [
    "from sklearn.metrics import confusion_matrix\n",
    "c = confusion_matrix(y_test , y_pred)\n",
    "c"
   ]
  },
  {
   "cell_type": "code",
   "execution_count": null,
   "metadata": {
    "id": "gSsZZFo6pks_"
   },
   "outputs": [],
   "source": [
    "from sklearn.metrics import accuracy_score\n",
    "accuracy_score(y_test, y_pred, normalize=True)\n",
    "knn_accuracy = accuracy_score(y_test, y_pred)\n",
    "print(knn_accuracy * 100)"
   ]
  },
  {
   "cell_type": "code",
   "execution_count": null,
   "metadata": {
    "id": "f4haMT0R9pLr"
   },
   "outputs": [],
   "source": [
    "from sklearn.metrics import f1_score , recall_score , precision_score\n",
    "f1_score(y_test , y_pred)"
   ]
  },
  {
   "cell_type": "code",
   "execution_count": null,
   "metadata": {
    "id": "5BFGHhi29pX4"
   },
   "outputs": [],
   "source": [
    "from sklearn.metrics import precision_score\n",
    "precision_score(y_test , y_pred)"
   ]
  },
  {
   "cell_type": "code",
   "execution_count": null,
   "metadata": {
    "id": "wTUVOSRV9peN"
   },
   "outputs": [],
   "source": [
    "from sklearn.metrics import recall_score\n",
    "recall_score(y_test , y_pred)"
   ]
  },
  {
   "cell_type": "code",
   "execution_count": null,
   "metadata": {
    "id": "ctG7GSOAZWw9"
   },
   "outputs": [],
   "source": [
    "from sklearn.metrics import roc_curve , auc\n",
    "fpr , tpr , threshold = roc_curve(y_test , y_pred)\n",
    "print(\"AUC = \" , auc(fpr , tpr))\n",
    "plt.plot(fpr , tpr)"
   ]
  },
  {
   "cell_type": "markdown",
   "metadata": {
    "id": "1I9G8kgRo-_P"
   },
   "source": [
    "###"
   ]
  },
  {
   "cell_type": "code",
   "execution_count": null,
   "metadata": {
    "id": "uEqG22DxpAB_"
   },
   "outputs": [],
   "source": [
    "from sklearn.tree import DecisionTreeClassifier, export_graphviz\n",
    "dt = DecisionTreeClassifier(random_state=0)\n",
    "dt.fit(x_train, y_train\n"
   ]
  },
  {
   "cell_type": "code",
   "execution_count": null,
   "metadata": {
    "id": "QQQyUQcapO5O"
   },
   "outputs": [],
   "source": [
    "dtpred = dt.predict(x_val)\n",
    "dtpre"
   ]
  },
  {
   "cell_type": "code",
   "execution_count": null,
   "metadata": {
    "id": "XxArUTBVpTtn"
   },
   "outputs": [],
   "source": [
    "dt_accuracy = accuracy_score(y_val, dtpred)\n",
    "print(\"Accuracy =\", dt_accuracy)"
   ]
  },
  {
   "cell_type": "code",
   "execution_count": null,
   "metadata": {
    "id": "DzIQx7bSphAO"
   },
   "outputs": [],
   "source": [
    "accuracies = []\n",
    "f1s = []\n",
    "depths = []\n",
    "\n",
    "for depth in range(3, 11):\n",
    "\n",
    "  depths.append(depth)\n",
    "  dt = DecisionTreeClassifier(random_state=0, max_depth=depth)\n",
    "  dt.fit(x_train, y_train)\n",
    "  pred = dt.predict(x_val)\n",
    "  accuracies.append(accuracy_score(y_val, pred))\n",
    "  f1s.append(f1_score(y_val, pred))\n"
   ]
  },
  {
   "cell_type": "code",
   "execution_count": null,
   "metadata": {
    "id": "UbujWvEapjm2"
   },
   "outputs": [],
   "source": [
    "tune_max_depth = {'Accuracy': accuracies, 'F1': f1s, 'Max_Depth': depths}\n",
    "tune_max_depth_df = pd.DataFrame.from_dict(tune_max_depth)\n",
    "\n",
    "plot_df = tune_max_depth_df.melt('Max_Depth',var_name='Metrics',value_name=\"Values\")\n",
    "fig,ax = plt.subplots(figsize=(15,5))\n",
    "sns.pointplot(x=\"Max_Depth\", y=\"Values\",hue=\"Metrics\", data=plot_df,ax=ax"
   ]
  },
  {
   "cell_type": "code",
   "execution_count": null,
   "metadata": {
    "id": "V3YGcPAXpmTm"
   },
   "outputs": [],
   "source": [
    "print(accuracies, max(accuracies))\n",
    "print(f1s, max(f1s))"
   ]
  },
  {
   "cell_type": "code",
   "execution_count": null,
   "metadata": {
    "id": "akYq_mAppua9"
   },
   "outputs": [],
   "source": [
    "import graphviz \n",
    "\n",
    "dt = DecisionTreeClassifier(random_state=0, max_depth=3)\n",
    "dt.fit(x_train, y_train)\n",
    "dot_data = export_graphviz(dt, feature_names = x_train.columns.tolist())\n",
    "graph = graphviz.Source(dot_data)\n",
    "graph"
   ]
  },
  {
   "cell_type": "code",
   "execution_count": null,
   "metadata": {
    "id": "1TbdRbAUpzot"
   },
   "outputs": [],
   "source": [
    "dtpred = dt.predict(x_val)\n",
    "dtpred"
   ]
  },
  {
   "cell_type": "code",
   "execution_count": null,
   "metadata": {
    "id": "DfyNf3Ftp2A0"
   },
   "outputs": [],
   "source": [
    "accuracy_score(y_train, dt.predict(x_train)"
   ]
  },
  {
   "cell_type": "code",
   "execution_count": null,
   "metadata": {
    "id": "TPai4M11p4Y9"
   },
   "outputs": [],
   "source": [
    "dt_accuracy = accuracy_score(y_val, dtpred)\n",
    "dt_f1 = f1_score(y_val, dtpred)\n",
    "dt_precision = precision_score(y_val, dtpred)\n",
    "dt_recall = recall_score(y_val, dtpred)\n",
    "print('Accuracy =', dt_accuracy)\n",
    "print('F1 Score =', dt_f1)\n",
    "print(\"Precision =\", dt_precision)\n",
    "print(\"Recall =\", dt_recall"
   ]
  },
  {
   "cell_type": "code",
   "execution_count": null,
   "metadata": {
    "id": "iG8ES-Fqp_y1"
   },
   "outputs": [],
   "source": [
    "fpr, tpr, thresholds = roc_curve(y_val, dtpred)\n",
    "print('AUC=', auc(fpr, tpr))\n",
    "plt.plot(fpr, tpr"
   ]
  },
  {
   "cell_type": "markdown",
   "metadata": {
    "id": "ao3ckRzHqBN0"
   },
   "source": [
    "###Random Forest"
   ]
  },
  {
   "cell_type": "code",
   "execution_count": null,
   "metadata": {
    "id": "vZ8NfXskqKls"
   },
   "outputs": [],
   "source": [
    "from sklearn.ensemble import RandomForestClassifie"
   ]
  },
  {
   "cell_type": "code",
   "execution_count": null,
   "metadata": {
    "id": "-aKTl3bZqNTc"
   },
   "outputs": [],
   "source": [
    "rf = RandomForestClassifier(random_state=0, max_depth=10)\n",
    "rf.fit(x_train, y_train)\n"
   ]
  },
  {
   "cell_type": "code",
   "execution_count": null,
   "metadata": {
    "id": "MGOXKT3uqRed"
   },
   "outputs": [],
   "source": [
    "rfpred = rf.predict(x_val)\n",
    "rfpred"
   ]
  },
  {
   "cell_type": "code",
   "execution_count": null,
   "metadata": {
    "id": "-LuUsp-TqWQ-"
   },
   "outputs": [],
   "source": [
    "rf_accuracy = accuracy_score(y_val, rfpred)\n",
    "rf_f1 = f1_score(y_val, rfpred)\n",
    "rf_precision = precision_score(y_val, rfpred)\n",
    "rf_recall = recall_score(y_val, rfpred)\n",
    "print('Accuracy =', rf_accuracy)\n",
    "print('F1 Score =', rf_f1)\n",
    "print(\"Precision =\", rf_precision)\n",
    "print(\"Recall =\", rf_recall)"
   ]
  },
  {
   "cell_type": "code",
   "execution_count": null,
   "metadata": {
    "id": "RJIdiyPWqa2O"
   },
   "outputs": [],
   "source": [
    "fpr, tpr, thresholds = roc_curve(y_val, rfpred)\n",
    "print('AUC =',auc(fpr, tpr))\n",
    "plt.plot(fpr, tpr"
   ]
  }
 ],
 "metadata": {
  "colab": {
   "collapsed_sections": [],
   "name": "knn1.ipynb",
   "provenance": []
  },
  "kernelspec": {
   "display_name": "Python 3",
   "language": "python",
   "name": "python3"
  },
  "language_info": {
   "codemirror_mode": {
    "name": "ipython",
    "version": 3
   },
   "file_extension": ".py",
   "mimetype": "text/x-python",
   "name": "python",
   "nbconvert_exporter": "python",
   "pygments_lexer": "ipython3",
   "version": "3.8.5"
  }
 },
 "nbformat": 4,
 "nbformat_minor": 1
}
